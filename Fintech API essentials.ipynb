{
  "nbformat": 4,
  "nbformat_minor": 0,
  "metadata": {
    "colab": {
      "name": "Untitled0.ipynb",
      "provenance": [],
      "authorship_tag": "ABX9TyPUWVwPDZZmqGSixDJOlpv5",
      "include_colab_link": true
    },
    "kernelspec": {
      "name": "python3",
      "display_name": "Python 3"
    },
    "language_info": {
      "name": "python"
    }
  },
  "cells": [
    {
      "cell_type": "markdown",
      "metadata": {
        "id": "view-in-github",
        "colab_type": "text"
      },
      "source": [
        "<a href=\"https://colab.research.google.com/github/21007915-Ahmad-Dzaki/L06/blob/master/Fintech%20API%20essentials.ipynb\" target=\"_parent\"><img src=\"https://colab.research.google.com/assets/colab-badge.svg\" alt=\"Open In Colab\"/></a>"
      ]
    },
    {
      "cell_type": "code",
      "execution_count": 1,
      "metadata": {
        "colab": {
          "base_uri": "https://localhost:8080/"
        },
        "id": "FYO8WHt_7Rak",
        "outputId": "8e035d3a-b7bb-4a04-e07f-871893fd5c21"
      },
      "outputs": [
        {
          "output_type": "stream",
          "name": "stdout",
          "text": [
            "b'[ {\\n  \"date\" : \"2021-09-25\",\\n  \"symbol\" : \"AAPL\",\\n  \"reportedCurrency\" : \"USD\",\\n  \"cik\" : \"0000320193\",\\n  \"fillingDate\" : \"2021-10-29\",\\n  \"acceptedDate\" : \"2021-10-28 18:04:28\",\\n  \"calendarYear\" : \"2021\",\\n  \"period\" : \"FY\",\\n  \"revenue\" : 365817000000,\\n  \"costOfRevenue\" : 212981000000,\\n  \"grossProfit\" : 152836000000,\\n  \"grossProfitRatio\" : 0.4177935962516778,\\n  \"researchAndDevelopmentExpenses\" : 21914000000,\\n  \"generalAndAdministrativeExpenses\" : 0.0,\\n  \"sellingAndMarketingExpenses\" : 0.0,\\n  \"sellingGeneralAndAdministrativeExpenses\" : 21973000000,\\n  \"otherExpenses\" : 0.0,\\n  \"operatingExpenses\" : 43887000000,\\n  \"costAndExpenses\" : 256868000000,\\n  \"interestIncome\" : 2843000000,\\n  \"interestExpense\" : 2645000000,\\n  \"depreciationAndAmortization\" : 11284000000,\\n  \"ebitda\" : 123136000000,\\n  \"ebitdaratio\" : 0.33660546120054563,\\n  \"operatingIncome\" : 108949000000,\\n  \"operatingIncomeRatio\" : 0.29782377527561593,\\n  \"totalOtherIncomeExpensesNet\" : 258000000,\\n  \"incomeBeforeTax\" : 109207000000,\\n  \"incomeBeforeTaxRatio\" : 0.2985290459437369,\\n  \"incomeTaxExpense\" : 14527000000,\\n  \"netIncome\" : 94680000000,\\n  \"netIncomeRatio\" : 0.2588179335569424,\\n  \"eps\" : 5.67,\\n  \"epsdiluted\" : 5.61,\\n  \"weightedAverageShsOut\" : 16701272000,\\n  \"weightedAverageShsOutDil\" : 16864919000,\\n  \"link\" : \"https://www.sec.gov/Archives/edgar/data/320193/000032019321000105/0000320193-21-000105-index.htm\",\\n  \"finalLink\" : \"https://www.sec.gov/Archives/edgar/data/320193/000032019321000105/aapl-20210925.htm\"\\n}, {\\n  \"date\" : \"2020-09-26\",\\n  \"symbol\" : \"AAPL\",\\n  \"reportedCurrency\" : \"USD\",\\n  \"cik\" : \"0000320193\",\\n  \"fillingDate\" : \"2020-10-30\",\\n  \"acceptedDate\" : \"2020-10-29 18:06:25\",\\n  \"calendarYear\" : \"2020\",\\n  \"period\" : \"FY\",\\n  \"revenue\" : 274515000000,\\n  \"costOfRevenue\" : 169559000000,\\n  \"grossProfit\" : 104956000000,\\n  \"grossProfitRatio\" : 0.38233247727810865,\\n  \"researchAndDevelopmentExpenses\" : 18752000000,\\n  \"generalAndAdministrativeExpenses\" : 0.0,\\n  \"sellingAndMarketingExpenses\" : 0.0,\\n  \"sellingGeneralAndAdministrativeExpenses\" : 19916000000,\\n  \"otherExpenses\" : 0.0,\\n  \"operatingExpenses\" : 38668000000,\\n  \"costAndExpenses\" : 208227000000,\\n  \"interestIncome\" : 3763000000,\\n  \"interestExpense\" : 2873000000,\\n  \"depreciationAndAmortization\" : 11056000000,\\n  \"ebitda\" : 81020000000,\\n  \"ebitdaratio\" : 0.2951386991603373,\\n  \"operatingIncome\" : 66288000000,\\n  \"operatingIncomeRatio\" : 0.24147314354406862,\\n  \"totalOtherIncomeExpensesNet\" : 803000000,\\n  \"incomeBeforeTax\" : 67091000000,\\n  \"incomeBeforeTaxRatio\" : 0.24439830246070343,\\n  \"incomeTaxExpense\" : 9680000000,\\n  \"netIncome\" : 57411000000,\\n  \"netIncomeRatio\" : 0.20913611278072236,\\n  \"eps\" : 3.31,\\n  \"epsdiluted\" : 3.28,\\n  \"weightedAverageShsOut\" : 17352119000,\\n  \"weightedAverageShsOutDil\" : 17528214000,\\n  \"link\" : \"https://www.sec.gov/Archives/edgar/data/320193/000032019320000096/0000320193-20-000096-index.htm\",\\n  \"finalLink\" : \"https://www.sec.gov/Archives/edgar/data/320193/000032019320000096/aapl-20200926.htm\"\\n}, {\\n  \"date\" : \"2019-09-28\",\\n  \"symbol\" : \"AAPL\",\\n  \"reportedCurrency\" : \"USD\",\\n  \"cik\" : \"0000320193\",\\n  \"fillingDate\" : \"2019-10-31\",\\n  \"acceptedDate\" : \"2019-10-30 18:12:36\",\\n  \"calendarYear\" : \"2019\",\\n  \"period\" : \"FY\",\\n  \"revenue\" : 260174000000,\\n  \"costOfRevenue\" : 161782000000,\\n  \"grossProfit\" : 98392000000,\\n  \"grossProfitRatio\" : 0.3781776810903472,\\n  \"researchAndDevelopmentExpenses\" : 16217000000,\\n  \"generalAndAdministrativeExpenses\" : 0.0,\\n  \"sellingAndMarketingExpenses\" : 0.0,\\n  \"sellingGeneralAndAdministrativeExpenses\" : 18245000000,\\n  \"otherExpenses\" : 0.0,\\n  \"operatingExpenses\" : 34462000000,\\n  \"costAndExpenses\" : 196244000000,\\n  \"interestIncome\" : 4961000000,\\n  \"interestExpense\" : 3576000000,\\n  \"depreciationAndAmortization\" : 12547000000,\\n  \"ebitda\" : 81860000000,\\n  \"ebitdaratio\" : 0.3146355900282119,\\n  \"operatingIncome\" : 63930000000,\\n  \"operatingIncomeRatio\" : 0.24572017188496928,\\n  \"totalOtherIncomeExpensesNet\" : 1807000000,\\n  \"incomeBeforeTax\" : 65737000000,\\n  \"incomeBeforeTaxRatio\" : 0.2526655238417367,\\n  \"incomeTaxExpense\" : 10481000000,\\n  \"netIncome\" : 55256000000,\\n  \"netIncomeRatio\" : 0.21238094505984456,\\n  \"eps\" : 2.9925,\\n  \"epsdiluted\" : 2.9725,\\n  \"weightedAverageShsOut\" : 18471336000,\\n  \"weightedAverageShsOutDil\" : 18595652000,\\n  \"link\" : \"https://www.sec.gov/Archives/edgar/data/320193/000032019319000119/0000320193-19-000119-index.html\",\\n  \"finalLink\" : \"https://www.sec.gov/Archives/edgar/data/320193/000032019319000119/a10-k20199282019.htm\"\\n}, {\\n  \"date\" : \"2018-09-29\",\\n  \"symbol\" : \"AAPL\",\\n  \"reportedCurrency\" : \"USD\",\\n  \"cik\" : \"0000320193\",\\n  \"fillingDate\" : \"2018-11-05\",\\n  \"acceptedDate\" : \"2018-11-05 08:01:40\",\\n  \"calendarYear\" : \"2018\",\\n  \"period\" : \"FY\",\\n  \"revenue\" : 265595000000,\\n  \"costOfRevenue\" : 163756000000,\\n  \"grossProfit\" : 101839000000,\\n  \"grossProfitRatio\" : 0.38343718820007905,\\n  \"researchAndDevelopmentExpenses\" : 14236000000,\\n  \"generalAndAdministrativeExpenses\" : 0.0,\\n  \"sellingAndMarketingExpenses\" : 0.0,\\n  \"sellingGeneralAndAdministrativeExpenses\" : 16705000000,\\n  \"otherExpenses\" : 0.0,\\n  \"operatingExpenses\" : 30941000000,\\n  \"costAndExpenses\" : 194697000000,\\n  \"interestIncome\" : 5686000000,\\n  \"interestExpense\" : 3240000000,\\n  \"depreciationAndAmortization\" : 10903000000,\\n  \"ebitda\" : 87046000000,\\n  \"ebitdaratio\" : 0.327739603531693,\\n  \"operatingIncome\" : 70898000000,\\n  \"operatingIncomeRatio\" : 0.26694026619477024,\\n  \"totalOtherIncomeExpensesNet\" : 2005000000,\\n  \"incomeBeforeTax\" : 72903000000,\\n  \"incomeBeforeTaxRatio\" : 0.27448935409175623,\\n  \"incomeTaxExpense\" : 13372000000,\\n  \"netIncome\" : 59531000000,\\n  \"netIncomeRatio\" : 0.22414202074587247,\\n  \"eps\" : 3.0025,\\n  \"epsdiluted\" : 2.9775,\\n  \"weightedAverageShsOut\" : 19821508000,\\n  \"weightedAverageShsOutDil\" : 20000436000,\\n  \"link\" : \"https://www.sec.gov/Archives/edgar/data/320193/000032019318000145/0000320193-18-000145-index.html\",\\n  \"finalLink\" : \"https://www.sec.gov/Archives/edgar/data/320193/000032019318000145/a10-k20189292018.htm\"\\n}, {\\n  \"date\" : \"2017-09-30\",\\n  \"symbol\" : \"AAPL\",\\n  \"reportedCurrency\" : \"USD\",\\n  \"cik\" : \"0000320193\",\\n  \"fillingDate\" : \"2017-11-03\",\\n  \"acceptedDate\" : \"2017-11-03 08:01:37\",\\n  \"calendarYear\" : \"2017\",\\n  \"period\" : \"FY\",\\n  \"revenue\" : 229234000000,\\n  \"costOfRevenue\" : 141048000000,\\n  \"grossProfit\" : 88186000000,\\n  \"grossProfitRatio\" : 0.38469860491899105,\\n  \"researchAndDevelopmentExpenses\" : 11581000000,\\n  \"generalAndAdministrativeExpenses\" : 0.0,\\n  \"sellingAndMarketingExpenses\" : 0.0,\\n  \"sellingGeneralAndAdministrativeExpenses\" : 15261000000,\\n  \"otherExpenses\" : 0.0,\\n  \"operatingExpenses\" : 26842000000,\\n  \"costAndExpenses\" : 167890000000,\\n  \"interestIncome\" : 5201000000,\\n  \"interestExpense\" : 2323000000,\\n  \"depreciationAndAmortization\" : 10157000000,\\n  \"ebitda\" : 76569000000,\\n  \"ebitdaratio\" : 0.33402113124580124,\\n  \"operatingIncome\" : 61344000000,\\n  \"operatingIncomeRatio\" : 0.2676042820872994,\\n  \"totalOtherIncomeExpensesNet\" : 2745000000,\\n  \"incomeBeforeTax\" : 64089000000,\\n  \"incomeBeforeTaxRatio\" : 0.27957894553164014,\\n  \"incomeTaxExpense\" : 15738000000,\\n  \"netIncome\" : 48351000000,\\n  \"netIncomeRatio\" : 0.21092420845075338,\\n  \"eps\" : 2.3175,\\n  \"epsdiluted\" : 2.3025,\\n  \"weightedAverageShsOut\" : 20868968000,\\n  \"weightedAverageShsOutDil\" : 21006768000,\\n  \"link\" : \"https://www.sec.gov/Archives/edgar/data/320193/000032019317000070/0000320193-17-000070-index.html\",\\n  \"finalLink\" : \"https://www.sec.gov/Archives/edgar/data/320193/000032019317000070/a10-k20179302017.htm\"\\n} ]'\n"
          ]
        }
      ],
      "source": [
        "import requests\n",
        "import json\n",
        "\n",
        "url = (\"https://financialmodelingprep.com/api/v3/income-statement/AAPL?apikey=e26736632f7dc3177b9c461dd82b1728\")\n",
        "data = requests.get(url)\n",
        "print (data.content)"
      ]
    }
  ]
}